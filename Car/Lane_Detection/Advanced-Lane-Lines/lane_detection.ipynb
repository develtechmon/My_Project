{
 "cells": [
  {
   "cell_type": "code",
   "execution_count": null,
   "metadata": {},
   "outputs": [],
   "source": [
    "!git clone https://github.com/Dt-Pham/Advanced-Lane-Lines.git"
   ]
  },
  {
   "cell_type": "code",
   "execution_count": 34,
   "metadata": {},
   "outputs": [],
   "source": [
    "import numpy as np\n",
    "import matplotlib.image as mpimg\n",
    "import cv2\n",
    "from docopt import docopt\n",
    "from IPython.display import HTML\n",
    "from IPython.core.display import Video\n",
    "from moviepy.editor import VideoFileClip\n",
    "from CameraCalibration import CameraCalibration\n",
    "from Thresholding import *\n",
    "from PerspectiveTransformation import *\n",
    "from LaneLines import *"
   ]
  },
  {
   "cell_type": "code",
   "execution_count": 35,
   "metadata": {},
   "outputs": [
    {
     "name": "stdout",
     "output_type": "stream",
     "text": [
      "Moviepy - Building video test_output.mp4.\n",
      "Moviepy - Writing video test_output.mp4\n",
      "\n"
     ]
    },
    {
     "name": "stderr",
     "output_type": "stream",
     "text": [
      "                                                                \r"
     ]
    },
    {
     "name": "stdout",
     "output_type": "stream",
     "text": [
      "Moviepy - Done !\n",
      "Moviepy - video ready test_output.mp4\n"
     ]
    }
   ],
   "source": [
    "class FindLaneLines:\n",
    "    def __init__(self):\n",
    "        \"\"\" Init Application\"\"\"\n",
    "        self.calibration = CameraCalibration(r'C:\\Users\\jlukas\\Desktop\\My Projects\\My Project\\Lane_Detection\\Advanced-Lane-Lines\\camera_cal', 9, 6)\n",
    "        self.thresholding = Thresholding()\n",
    "        self.transform = PerspectiveTransformation()\n",
    "        self.lanelines = LaneLines()\n",
    "        \n",
    "    def forward(self, img):\n",
    "        out_img = np.copy(img)\n",
    "        img = self.calibration.undistort(img)\n",
    "        img = self.transform.forward(img)\n",
    "        img = self.thresholding.forward(img)\n",
    "        img = self.lanelines.forward(img)\n",
    "        img = self.transform.backward(img)\n",
    "\n",
    "        out_img = cv2.addWeighted(out_img, 1, img, 0.6, 0)\n",
    "        out_img = self.lanelines.plot(out_img)\n",
    "        return out_img\n",
    "    \n",
    "    def process_image(self, input_path, output_path):\n",
    "        img = mpimg.imread(input_path)\n",
    "        out_img = self.forward(img)\n",
    "        mpimg.imsave(output_path, out_img)\n",
    "\n",
    "    def process_video(self, input_path, output_path):\n",
    "        clip = VideoFileClip(input_path)\n",
    "        out_clip = clip.fl_image(self.forward)\n",
    "        out_clip.write_videofile(output_path, audio=False)\n",
    "        \n",
    "def main():\n",
    "    findLaneLines = FindLaneLines()\n",
    "    findLaneLines.process_video(r\"C:\\Users\\jlukas\\Desktop\\My Projects\\My Project\\Lane_Detection\\Advanced-Lane-Lines\\project_video.mp4\", \"test_output.mp4\")\n",
    "    \n",
    "if __name__ == \"__main__\":\n",
    "    main()\n",
    "    "
   ]
  }
 ],
 "metadata": {
  "interpreter": {
   "hash": "12878d9c59eceea85706703e51a297eb058c0a8058d557ec233f6d0e3928c79a"
  },
  "kernelspec": {
   "display_name": "Python 3.9.5 64-bit",
   "language": "python",
   "name": "python3"
  },
  "language_info": {
   "codemirror_mode": {
    "name": "ipython",
    "version": 3
   },
   "file_extension": ".py",
   "mimetype": "text/x-python",
   "name": "python",
   "nbconvert_exporter": "python",
   "pygments_lexer": "ipython3",
   "version": "3.9.5"
  },
  "orig_nbformat": 4
 },
 "nbformat": 4,
 "nbformat_minor": 2
}
